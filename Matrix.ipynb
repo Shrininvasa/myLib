{
 "cells": [
  {
   "cell_type": "code",
   "execution_count": 23,
   "metadata": {},
   "outputs": [],
   "source": [
    "import random as r\n",
    "class Matrix:\n",
    "    def __init__(self, rows, cols):\n",
    "        self.rows = rows\n",
    "        self.cols = cols\n",
    "        self.matrix = []\n",
    "        \n",
    "        for i in range(self.rows):\n",
    "            self.matrix.append([])\n",
    "            for j in range(self.cols):\n",
    "                self.matrix[i].append(0)\n",
    "    \n",
    "    def printMatrix(self):\n",
    "        for x in range(len(self.matrix)):\n",
    "            print(self.matrix[x])\n",
    "    \n",
    "    @staticmethod\n",
    "    def multiply(a, b):\n",
    "        # Matrix or Dot Multiplication\n",
    "        if a.cols != b.rows:\n",
    "            print(\"Columns of A must be match Rows of B\")\n",
    "            return None\n",
    "        result = Matrix(a.rows, b.cols)\n",
    "        for i in range(a.rows):\n",
    "            for j in range(b.cols):\n",
    "                for k in range(b.rows):\n",
    "                    result.matrix[i][j] += a.matrix[i][k] * b.matrix[k][j]      \n",
    "        return result\n",
    "        \n",
    "    def scale(self, n):\n",
    "        # Scalar Multiplication\n",
    "        if type(n) == int or type(n) == float:\n",
    "            for row in range(self.rows):\n",
    "                for col in range(self.cols):\n",
    "                    self.matrix[row][col] *= n\n",
    "        else:\n",
    "            print(\"This is a scalar function\")\n",
    "            \n",
    "    def add(self, n):\n",
    "        # Element-wise Addition\n",
    "        if type(n) == Matrix:\n",
    "            for row in range(self.rows):\n",
    "                for col in range(self.cols):\n",
    "                    self.matrix[row][col] += n.matrix[row][col]\n",
    "        # Scalar Addition\n",
    "        elif type(n) == int or type(n) == float:\n",
    "            for row in range(self.rows):\n",
    "                for col in range(self.cols):\n",
    "                    self.matrix[row][col] += n\n",
    "    \n",
    "    def randomize(self):\n",
    "        for row in range(self.rows):\n",
    "            for cols in range(self.cols):\n",
    "                self.matrix[row][cols] = r.random() * 2 - 1\n",
    "    \n",
    "    def transpose(self):\n",
    "        result = Matrix(self.cols, self.rows)\n",
    "        for row in range(self.rows):\n",
    "            for col in range(self.cols):\n",
    "                result.matrix[col][row] = self.matrix[row][col]\n",
    "        return result\n",
    "    \n",
    "    def mapThis(self, func):\n",
    "        for row in range(self.rows):\n",
    "            for col in range(self.cols):\n",
    "                val = self.matrix[row][col]\n",
    "                self.matrix[row][col] = func(val)\n",
    "    \n",
    "    @staticmethod\n",
    "    def fromArray(arr):\n",
    "        result = Matrix(len(arr), 1)\n",
    "        for i in range(len(arr)):\n",
    "            result.matrix[i][0] = arr[i]\n",
    "        return result\n",
    "    \n",
    "    def toArray(self):\n",
    "        result= []\n",
    "        for row in range(self.rows):\n",
    "            for col in range(self.cols):\n",
    "                result.append(self.matrix[row][col])\n",
    "        return result"
   ]
  },
  {
   "cell_type": "code",
   "execution_count": 24,
   "metadata": {},
   "outputs": [
    {
     "name": "stdout",
     "output_type": "stream",
     "text": [
      "[0.9110270151888915, 0.008919430329773492, -0.08955846036543469]\n",
      "[0.4601835047138849, -0.4929115732570837, 0.6158547050447085]\n",
      "[-0.8762688405857753, -0.5417092380809942, -0.7339803491817254]\n",
      "--------------------------------------------------------------------------------\n",
      "[0.9110270151888915, 0.008919430329773492, -0.08955846036543469, 0.4601835047138849, -0.4929115732570837, 0.6158547050447085, -0.8762688405857753, -0.5417092380809942, -0.7339803491817254]\n",
      "--------------------------------------------------------------------------------\n",
      "[0.3283410865177103, -0.8922675910927256, 0.39241981057507114]\n",
      "[-0.43020603697713944, -0.40840689405308117, -0.5290740077962404]\n",
      "[0.9777767689621288, 0.7537310021381749, 0.5827709157840528]\n"
     ]
    }
   ],
   "source": [
    "if __name__ == \"__main__\":\n",
    "    m1 = Matrix(3, 3)\n",
    "    m1.randomize()\n",
    "    m1.printMatrix()\n",
    "    print(\"-\" * 80)\n",
    "    print(m1.toArray())\n",
    "    print(\"-\" * 80)\n",
    "    m2 = Matrix(3, 3)\n",
    "    m2.randomize()\n",
    "    m2.printMatrix()\n"
   ]
  },
  {
   "cell_type": "code",
   "execution_count": 121,
   "metadata": {},
   "outputs": [
    {
     "name": "stdout",
     "output_type": "stream",
     "text": [
      "[8, 1, 7]\n",
      "[4, 2, 1]\n",
      "[6, 5, 6]\n"
     ]
    }
   ],
   "source": []
  },
  {
   "cell_type": "code",
   "execution_count": 123,
   "metadata": {},
   "outputs": [
    {
     "name": "stdout",
     "output_type": "stream",
     "text": [
      "[88, 51, 73]\n",
      "[90, 54, 78]\n",
      "[76, 41, 61]\n"
     ]
    }
   ],
   "source": []
  },
  {
   "cell_type": "code",
   "execution_count": null,
   "metadata": {},
   "outputs": [],
   "source": []
  }
 ],
 "metadata": {
  "kernelspec": {
   "display_name": "Python 3",
   "language": "python",
   "name": "python3"
  },
  "language_info": {
   "codemirror_mode": {
    "name": "ipython",
    "version": 3
   },
   "file_extension": ".py",
   "mimetype": "text/x-python",
   "name": "python",
   "nbconvert_exporter": "python",
   "pygments_lexer": "ipython3",
   "version": "3.7.3"
  }
 },
 "nbformat": 4,
 "nbformat_minor": 2
}

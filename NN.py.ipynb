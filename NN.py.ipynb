{
 "cells": [
  {
   "cell_type": "code",
   "execution_count": 1,
   "metadata": {},
   "outputs": [],
   "source": [
    "import math\n",
    "def sigmoid(x):\n",
    "    return 1 / (1 + math.exp(-x))"
   ]
  },
  {
   "cell_type": "code",
   "execution_count": 10,
   "metadata": {},
   "outputs": [],
   "source": [
    "import Matrix as m\n",
    "class NeuralNetwork:\n",
    "    def __init__(self, input_nodes, hidden_nodes, output_nodes):\n",
    "        self.input_nodes = input_nodes\n",
    "        self.hidden_nodes = hidden_nodes\n",
    "        self.output_nodes = output_nodes\n",
    "        \n",
    "        self.weights_ih = m.Matrix(self.hidden_nodes, self.input_nodes)\n",
    "        self.weights_ho = m.Matrix(self.output_nodes, self.hidden_nodes)\n",
    "        self.weights_ih.randomize()\n",
    "        self.weights_ho.randomize()\n",
    "        \n",
    "        self.bias_h = m.Matrix(self.hidden_nodes, 1)\n",
    "        self.bias_o = m.Matrix(self.output_nodes, 1)\n",
    "        self.bias_h.randomize()\n",
    "        self.bias_o.randomize()\n",
    "        \n",
    "    def feedforward(self, input_array):\n",
    "        inputs = m.Matrix.fromArray(input_array)\n",
    "        \n",
    "        hidden = m.Matrix.multiply(self.weights_ih, inputs)\n",
    "        hidden.add(self.bias_h)\n",
    "        hidden.mapThis(sigmoid)\n",
    "        \n",
    "        output = m.Matrix.multiply(self.weights_ho, hidden)\n",
    "        output.add(self.bias_o)\n",
    "        output.mapThis(sigmoid)\n",
    "        \n",
    "        return output.toArray()"
   ]
  },
  {
   "cell_type": "code",
   "execution_count": 55,
   "metadata": {},
   "outputs": [
    {
     "name": "stdout",
     "output_type": "stream",
     "text": [
      "[0.4721820857676306]\n"
     ]
    }
   ],
   "source": [
    "input_arr = [1, 0]\n",
    "nn = NeuralNetwork(2, 2, 1)\n",
    "output = nn.feedforward(input_arr)\n",
    "print(output)"
   ]
  },
  {
   "cell_type": "code",
   "execution_count": null,
   "metadata": {},
   "outputs": [],
   "source": []
  },
  {
   "cell_type": "code",
   "execution_count": null,
   "metadata": {},
   "outputs": [],
   "source": []
  }
 ],
 "metadata": {
  "kernelspec": {
   "display_name": "Python 3",
   "language": "python",
   "name": "python3"
  },
  "language_info": {
   "codemirror_mode": {
    "name": "ipython",
    "version": 3
   },
   "file_extension": ".py",
   "mimetype": "text/x-python",
   "name": "python",
   "nbconvert_exporter": "python",
   "pygments_lexer": "ipython3",
   "version": "3.7.3"
  }
 },
 "nbformat": 4,
 "nbformat_minor": 2
}
